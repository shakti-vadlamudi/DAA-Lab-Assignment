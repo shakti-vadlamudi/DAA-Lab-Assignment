{
  "nbformat": 4,
  "nbformat_minor": 0,
  "metadata": {
    "colab": {
      "provenance": []
    },
    "kernelspec": {
      "name": "python3",
      "display_name": "Python 3"
    },
    "language_info": {
      "name": "python"
    }
  },
  "cells": [
    {
      "cell_type": "code",
      "execution_count": 4,
      "metadata": {
        "colab": {
          "base_uri": "https://localhost:8080/"
        },
        "id": "2MKjn3vuEWf0",
        "outputId": "771fc6c9-1526-4a1d-c0fc-951fd8099d1a"
      },
      "outputs": [
        {
          "output_type": "stream",
          "name": "stdout",
          "text": [
            "Pair found: (2, 8)\n",
            "Pair not found\n"
          ]
        }
      ],
      "source": [
        "def find_pair_with_sum(nums, target):\n",
        "\n",
        "  seen = set()\n",
        "  for num in nums:\n",
        "    complement = target - num\n",
        "    if complement in seen:\n",
        "      return [num, complement]\n",
        "    seen.add(num)\n",
        "\n",
        "  return []\n",
        "\n",
        "\n",
        "nums = [8, 7, 2, 5, 3, 1]\n",
        "target = 10\n",
        "pair = find_pair_with_sum(nums, target)\n",
        "if pair:\n",
        "  print(f\"Pair found: ({pair[0]}, {pair[1]})\")\n",
        "else:\n",
        "  print(\"Pair not found\")\n",
        "\n",
        "nums = [5, 2, 6, 8, 1, 9]\n",
        "target = 12\n",
        "pair = find_pair_with_sum(nums, target)\n",
        "if pair:\n",
        "  print(f\"Pair found: ({pair[0]}, {pair[1]})\")\n",
        "else:\n",
        "  print(\"Pair not found\")"
      ]
    },
    {
      "cell_type": "markdown",
      "source": [
        "question 2\n",
        "\n",
        "```\n",
        "\n",
        "```\n",
        "\n"
      ],
      "metadata": {
        "id": "7i4_zsO8Egjt"
      }
    },
    {
      "cell_type": "code",
      "source": [
        "def find_max_product_pair(nums):\n",
        "\n",
        "\n",
        "    max1 = max2 = float('-inf')\n",
        "    min1 = min2 = float('inf')\n",
        "\n",
        "    for num in nums:\n",
        "        if num > max1:\n",
        "            max2 = max1\n",
        "            max1 = num\n",
        "        elif num > max2:\n",
        "            max2 = num\n",
        "\n",
        "        if num < min1:\n",
        "            min2 = min1\n",
        "            min1 = num\n",
        "        elif num < min2:\n",
        "            min2 = num\n",
        "\n",
        "\n",
        "    if max1 * max2 > min1 * min2:\n",
        "        return [max1, max2]\n",
        "    else:\n",
        "        return [min1, min2]\n",
        "\n",
        "\n",
        "nums = [1, 7, 4, 2, 8, 6, 3, 9, -5]\n",
        "\n",
        "max_product_pair = find_max_product_pair(nums)\n",
        "print(f\"Pair with maximum product: ({max_product_pair[0]}, {max_product_pair[1]})\")"
      ],
      "metadata": {
        "colab": {
          "base_uri": "https://localhost:8080/"
        },
        "id": "8zZNi6rTEh4a",
        "outputId": "fee3a1f8-6280-45af-d250-b659f18568ae"
      },
      "execution_count": 3,
      "outputs": [
        {
          "output_type": "stream",
          "name": "stdout",
          "text": [
            "Pair with maximum product: (9, 8)\n"
          ]
        }
      ]
    },
    {
      "cell_type": "markdown",
      "source": [
        "question 3"
      ],
      "metadata": {
        "id": "zcKDMe7EFH_5"
      }
    },
    {
      "cell_type": "code",
      "source": [
        "def fix_two_swapped(arr):\n",
        "\n",
        "\n",
        "  n = len(arr)\n",
        "  if n <= 1:\n",
        "    return arr\n",
        "\n",
        "\n",
        "  for i in range(1, n):\n",
        "    if arr[i] < arr[i - 1]:\n",
        "      break\n",
        "\n",
        "\n",
        "  for j in range(n - 2, -1, -1):\n",
        "    if arr[j] > arr[j + 1]:\n",
        "      break\n",
        "\n",
        "\n",
        "  if i < n and j > -1:\n",
        "    arr[i], arr[j] = arr[j], arr[i]\n",
        "\n",
        "  return arr\n",
        "\n",
        "\n",
        "test_cases = [\n",
        "    [3, 8, 6, 7, 5, 9],\n",
        "    [3, 5, 6, 9, 8, 7],\n",
        "    [3, 5, 7, 6, 8, 9]\n",
        "]\n",
        "\n",
        "for arr in test_cases:\n",
        "  sorted_arr = fix_two_swapped(arr.copy())\n",
        "  print(f\"Original: {arr}, Sorted: {sorted_arr}\")"
      ],
      "metadata": {
        "colab": {
          "base_uri": "https://localhost:8080/"
        },
        "id": "4NnONgOhFJ3h",
        "outputId": "f5cc9f3d-a745-48a9-85fc-e43c8076b045"
      },
      "execution_count": 6,
      "outputs": [
        {
          "output_type": "stream",
          "name": "stdout",
          "text": [
            "Original: [3, 8, 6, 7, 5, 9], Sorted: [3, 8, 7, 6, 5, 9]\n",
            "Original: [3, 5, 6, 9, 8, 7], Sorted: [3, 5, 6, 9, 8, 7]\n",
            "Original: [3, 5, 7, 6, 8, 9], Sorted: [3, 5, 6, 7, 8, 9]\n"
          ]
        }
      ]
    },
    {
      "cell_type": "markdown",
      "source": [
        "question 4"
      ],
      "metadata": {
        "id": "FgfgLSowFaBD"
      }
    },
    {
      "cell_type": "code",
      "source": [
        "def segregate_0s_1s(arr):\n",
        "\n",
        "  left = 0\n",
        "  right = len(arr) - 1\n",
        "\n",
        "  while left < right:\n",
        "    while arr[left] == 0 and left < right:\n",
        "      left += 1\n",
        "    while arr[right] == 1 and left < right:\n",
        "      right -= 1\n",
        "\n",
        "    if left < right:\n",
        "      arr[left], arr[right] = arr[right], arr[left]\n",
        "      left += 1\n",
        "      right -= 1\n",
        "\n",
        "\n",
        "input_array = [0, 1, 8, 1, 'e', 'e', 1, 1, 1, 'e']\n",
        "filtered_array = [x for x in input_array if x == 0 or x == 1]\n",
        "\n",
        "segregate_0s_1s(filtered_array)\n",
        "print(\"Segregated array (after filtering):\",filtered_array)"
      ],
      "metadata": {
        "colab": {
          "base_uri": "https://localhost:8080/"
        },
        "id": "GsOL_DTjFcJM",
        "outputId": "01c6f6a7-80f9-4516-cf8e-8e77b6ff8cfb"
      },
      "execution_count": 8,
      "outputs": [
        {
          "output_type": "stream",
          "name": "stdout",
          "text": [
            "Segregated array (after filtering): [0, 1, 1, 1, 1, 1]\n"
          ]
        }
      ]
    },
    {
      "cell_type": "markdown",
      "source": [
        "question 5"
      ],
      "metadata": {
        "id": "EM8HsCP3FoMv"
      }
    },
    {
      "cell_type": "code",
      "source": [
        "def merge_and_count_inversions(arr, left, mid, right):\n",
        "\n",
        "\n",
        "    left_array = arr[left:mid + 1]\n",
        "    right_array = arr[mid + 1:right + 1]\n",
        "    i, j, inversion_count = 0, 0, 0\n",
        "\n",
        "    for k in range(left, right + 1):\n",
        "        if i < len(left_array) and (j >= len(right_array) or left_array[i] <= right_array[j]):\n",
        "            arr[k] = left_array[i]\n",
        "            i += 1\n",
        "        else:\n",
        "            arr[k] = right_array[j]\n",
        "            j += 1\n",
        "            inversion_count += len(left_array) - i\n",
        "\n",
        "    return inversion_count\n",
        "\n",
        "\n",
        "def merge_sort_and_count_inversions(arr, left, right):\n",
        "\n",
        "    if left < right:\n",
        "        mid = (left + right) // 2\n",
        "        left_inversions = merge_sort_and_count_inversions(arr, left, mid)\n",
        "        right_inversions = merge_sort_and_count_inversions(arr, mid + 1, right)\n",
        "        merge_inversions = merge_and_count_inversions(arr, left, mid, right)\n",
        "        return left_inversions + right_inversions + merge_inversions\n",
        "    else:\n",
        "        return 0\n",
        "\n",
        "\n",
        "A = [10, 1, 2, 4, 13, 9, 5]\n",
        "inversion_count = merge_sort_and_count_inversions(A, 0, len(A) - 1)\n",
        "print(f\"Array: {A}\")\n",
        "print(f\"Inversion Count: {inversion_count}\")"
      ],
      "metadata": {
        "colab": {
          "base_uri": "https://localhost:8080/"
        },
        "id": "3UlHLP41Fpti",
        "outputId": "3ffdcca3-cbb0-4702-bda6-5b44588f89cc"
      },
      "execution_count": 10,
      "outputs": [
        {
          "output_type": "stream",
          "name": "stdout",
          "text": [
            "Array: [1, 2, 4, 5, 9, 10, 13]\n",
            "Inversion Count: 8\n"
          ]
        }
      ]
    },
    {
      "cell_type": "markdown",
      "source": [
        "question 6"
      ],
      "metadata": {
        "id": "r_IB7d14F60D"
      }
    },
    {
      "cell_type": "code",
      "source": [
        "def find_sum_pair_n2(arr, target):\n",
        "\n",
        "  for i in range(len(arr)):\n",
        "    for j in range(i, len(arr)):\n",
        "      if arr[i] + arr[j] == target:\n",
        "        return [arr[i], arr[j]]\n",
        "\n",
        "  return []\n",
        "def find_sum_pair_nlogn(arr, target):\n",
        "\n",
        "  arr.sort()\n",
        "  left = 0\n",
        "  right = len(arr) - 1\n",
        "\n",
        "  while left < right:\n",
        "    current_sum = arr[left] + arr[right]\n",
        "    if current_sum == target:\n",
        "      return [arr[left], arr[right]]\n",
        "    elif current_sum < target:\n",
        "      left += 1\n",
        "    else:\n",
        "      right -= 1\n",
        "\n",
        "  return []\n",
        "arr = [8, 4, 1, 6]\n",
        "target = 10\n",
        "\n",
        "pair_n2 = find_sum_pair_n2(arr, target)\n",
        "pair_nlogn = find_sum_pair_nlogn(arr, target)\n",
        "\n",
        "print(f\"Pair found (O(n^2)): {pair_n2}\")\n",
        "print(f\"Pair found (O(n log n)): {pair_nlogn}\")"
      ],
      "metadata": {
        "colab": {
          "base_uri": "https://localhost:8080/"
        },
        "id": "swyrTbagF8Jm",
        "outputId": "d466f471-5a3f-49ac-9b70-8817cff1e9d7"
      },
      "execution_count": 12,
      "outputs": [
        {
          "output_type": "stream",
          "name": "stdout",
          "text": [
            "Pair found (O(n^2)): [4, 6]\n",
            "Pair found (O(n log n)): [4, 6]\n"
          ]
        }
      ]
    }
  ]
}